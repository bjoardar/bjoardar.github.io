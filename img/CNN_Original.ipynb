{
  "nbformat": 4,
  "nbformat_minor": 0,
  "metadata": {
    "kernelspec": {
      "name": "python3",
      "display_name": "Python 3"
    },
    "language_info": {
      "codemirror_mode": {
        "name": "ipython",
        "version": 3
      },
      "file_extension": ".py",
      "mimetype": "text/x-python",
      "name": "python",
      "nbconvert_exporter": "python",
      "pygments_lexer": "ipython3",
      "version": "3.6.1"
    },
    "colab": {
      "name": "CNN Original.ipynb",
      "provenance": [],
      "collapsed_sections": []
    },
    "accelerator": "GPU"
  },
  "cells": [
    {
      "cell_type": "code",
      "metadata": {
        "id": "DNrWHrps0IIF",
        "colab_type": "code",
        "outputId": "6f2879e2-e245-48d4-e14b-82d92999713f",
        "colab": {
          "base_uri": "https://localhost:8080/",
          "height": 139
        }
      },
      "source": [
        "from google.colab import drive\n",
        "\n",
        "drive.mount('/content/gdrive/')\n",
        "\n",
        "%cd 'gdrive/My Drive/Colab Notebooks'"
      ],
      "execution_count": 3,
      "outputs": [
        {
          "output_type": "stream",
          "text": [
            "Go to this URL in a browser: https://accounts.google.com/o/oauth2/auth?client_id=947318989803-6bn6qk8qdgf4n4g3pfee6491hc0brc4i.apps.googleusercontent.com&redirect_uri=urn%3Aietf%3Awg%3Aoauth%3A2.0%3Aoob&scope=email%20https%3A%2F%2Fwww.googleapis.com%2Fauth%2Fdocs.test%20https%3A%2F%2Fwww.googleapis.com%2Fauth%2Fdrive%20https%3A%2F%2Fwww.googleapis.com%2Fauth%2Fdrive.photos.readonly%20https%3A%2F%2Fwww.googleapis.com%2Fauth%2Fpeopleapi.readonly&response_type=code\n",
            "\n",
            "Enter your authorization code:\n",
            "··········\n",
            "Mounted at /content/gdrive/\n",
            "/content/gdrive/My Drive/Colab Notebooks\n"
          ],
          "name": "stdout"
        }
      ]
    },
    {
      "cell_type": "code",
      "metadata": {
        "id": "SeSG_gJE01Or",
        "colab_type": "code",
        "outputId": "e76fc7d0-1313-45dc-882a-4a5002f49c07",
        "colab": {
          "base_uri": "https://localhost:8080/",
          "height": 85
        }
      },
      "source": [
        ""
      ],
      "execution_count": 1,
      "outputs": [
        {
          "output_type": "stream",
          "text": [
            "/content\n",
            "sample_data\n",
            "[Errno 2] No such file or directory: 'dir'\n",
            "/content\n"
          ],
          "name": "stdout"
        }
      ]
    },
    {
      "cell_type": "code",
      "metadata": {
        "id": "_CKtpAA9y4XN",
        "colab_type": "code",
        "outputId": "78c3852d-3324-4e89-a7ff-686555fffb3e",
        "colab": {
          "base_uri": "https://localhost:8080/",
          "height": 80
        }
      },
      "source": [
        "import keras\n",
        "from keras.layers.convolutional import Convolution2D\n",
        "from keras.layers.convolutional import MaxPooling2D\n",
        "from keras.layers.core import Activation\n",
        "from keras.layers.core import Flatten\n",
        "from keras.layers.core import Dense\n",
        "from keras.models import Sequential\n",
        "from keras.optimizers import SGD\n",
        "from keras.utils import np_utils\n",
        "from sklearn.model_selection import train_test_split\n",
        "from sklearn import datasets\n",
        "import numpy as np"
      ],
      "execution_count": 4,
      "outputs": [
        {
          "output_type": "stream",
          "text": [
            "Using TensorFlow backend.\n"
          ],
          "name": "stderr"
        },
        {
          "output_type": "display_data",
          "data": {
            "text/html": [
              "<p style=\"color: red;\">\n",
              "The default version of TensorFlow in Colab will soon switch to TensorFlow 2.x.<br>\n",
              "We recommend you <a href=\"https://www.tensorflow.org/guide/migrate\" target=\"_blank\">upgrade</a> now \n",
              "or ensure your notebook will continue to use TensorFlow 1.x via the <code>%tensorflow_version 1.x</code> magic:\n",
              "<a href=\"https://colab.research.google.com/notebooks/tensorflow_version.ipynb\" target=\"_blank\">more info</a>.</p>\n"
            ],
            "text/plain": [
              "<IPython.core.display.HTML object>"
            ]
          },
          "metadata": {
            "tags": []
          }
        }
      ]
    },
    {
      "cell_type": "code",
      "metadata": {
        "id": "bUtAeeUTy4X_",
        "colab_type": "code",
        "colab": {}
      },
      "source": [
        "# Download the MNIST dataset\n",
        "from keras.datasets import mnist\n",
        "from sklearn.datasets import fetch_openml\n",
        "dataset = fetch_openml('mnist_784')\n",
        "data = dataset.data.reshape((dataset.data.shape[0], 28, 28))\n",
        "data = data[:, :, :, np.newaxis]\n",
        "# Scale values from range of [0-255] to [0-1]\n",
        "scaled_data = data / 255.0"
      ],
      "execution_count": 0,
      "outputs": []
    },
    {
      "cell_type": "code",
      "metadata": {
        "id": "2Ra6ugJ3y4Ya",
        "colab_type": "code",
        "colab": {}
      },
      "source": [
        "# Split the dataset into training and test sets\n",
        "(train_data, test_data, train_labels, test_labels) = train_test_split(\n",
        "    scaled_data,\n",
        "    dataset.target.astype(\"int\"), \n",
        "    test_size = 0.33)\n",
        "\n",
        "# Tranform training labels to one-hot encoding\n",
        "train_labels = np_utils.to_categorical(train_labels, 10)\n",
        "\n",
        "# Tranform test labels to one-hot encoding\n",
        "test_labels = np_utils.to_categorical(test_labels, 10)"
      ],
      "execution_count": 0,
      "outputs": []
    },
    {
      "cell_type": "code",
      "metadata": {
        "id": "g5aGd_YYy4Yl",
        "colab_type": "code",
        "colab": {}
      },
      "source": [
        "model = Sequential()\n",
        "\n",
        "# First convolution layer\n",
        "model.add(Convolution2D(\n",
        "    filters = 20,\n",
        "    kernel_size = (5, 5),\n",
        "    padding = \"same\",\n",
        "    input_shape = (28,28,1)))"
      ],
      "execution_count": 0,
      "outputs": []
    },
    {
      "cell_type": "code",
      "metadata": {
        "id": "41-V-yQky4Ys",
        "colab_type": "code",
        "colab": {}
      },
      "source": [
        "# ReLU activation function\n",
        "model.add(Activation(\n",
        "    activation = \"relu\"))"
      ],
      "execution_count": 0,
      "outputs": []
    },
    {
      "cell_type": "code",
      "metadata": {
        "id": "n5o-0amry4Yz",
        "colab_type": "code",
        "colab": {}
      },
      "source": [
        "# Pooling layer\n",
        "model.add(MaxPooling2D(\n",
        "    pool_size = (2, 2),\n",
        "    strides =  (2, 2)))"
      ],
      "execution_count": 0,
      "outputs": []
    },
    {
      "cell_type": "code",
      "metadata": {
        "id": "_Twp4WR5y4Y6",
        "colab_type": "code",
        "colab": {}
      },
      "source": [
        "# Second convolution layer\n",
        "model.add(Convolution2D(\n",
        "    filters = 50,\n",
        "    kernel_size = (5, 5),\n",
        "    padding = \"same\"))"
      ],
      "execution_count": 0,
      "outputs": []
    },
    {
      "cell_type": "code",
      "metadata": {
        "id": "JNKR-K1zy4Zc",
        "colab_type": "code",
        "colab": {}
      },
      "source": [
        "# ReLU activation function\n",
        "model.add(Activation(\n",
        "    activation = \"relu\"))\n",
        "\n",
        "# Add a second pooling layer"
      ],
      "execution_count": 0,
      "outputs": []
    },
    {
      "cell_type": "code",
      "metadata": {
        "id": "U4ZfLuwRy4Zj",
        "colab_type": "code",
        "colab": {}
      },
      "source": [
        "model.add(MaxPooling2D(\n",
        "    pool_size = (2, 2),\n",
        "    strides = (2,2)))\n",
        "\n",
        "# Flatten the network\n",
        "model.add(Flatten())\n",
        "\n",
        "# Fully-connected hidden layer\n",
        "model.add(Dense(500))\n",
        "\n",
        "# ReLU activation function\n",
        "model.add(Activation(\n",
        "    activation = \"relu\"))\n",
        "\n",
        "# Fully-connected output layer\n",
        "model.add(Dense(10))\n",
        "\n",
        "# Activation function\n",
        "model.add(Activation(\"softmax\"))\n",
        "\n"
      ],
      "execution_count": 0,
      "outputs": []
    },
    {
      "cell_type": "code",
      "metadata": {
        "id": "OBZKWnm6rn0k",
        "colab_type": "code",
        "colab": {}
      },
      "source": [
        ""
      ],
      "execution_count": 0,
      "outputs": []
    },
    {
      "cell_type": "code",
      "metadata": {
        "id": "XEqVXRQyy4Z3",
        "colab_type": "code",
        "colab": {}
      },
      "source": [
        "model.compile(\n",
        "loss = \"categorical_crossentropy\", \n",
        "optimizer = SGD(lr = 0.01),\n",
        "metrics = [\"accuracy\"])\n",
        "\n"
      ],
      "execution_count": 0,
      "outputs": []
    },
    {
      "cell_type": "code",
      "metadata": {
        "id": "Yv_zgT-0y4aE",
        "colab_type": "code",
        "outputId": "ad4e9e05-fc02-476d-cd96-652bd29837a1",
        "colab": {
          "base_uri": "https://localhost:8080/",
          "height": 870
        }
      },
      "source": [
        "model.fit(\n",
        "    train_data, \n",
        "    train_labels, \n",
        "    batch_size = 128, \n",
        "    epochs = 20,\n",
        "\t  verbose = 1)\n",
        "\n",
        "# Evaluate the model\n",
        "(loss, accuracy) = model.evaluate(\n",
        "    test_data, \n",
        "    test_labels,\n",
        "    batch_size = 128, \n",
        "    verbose = 1)\n",
        "\n",
        "# Print the model's accuracy\n",
        "print(accuracy)"
      ],
      "execution_count": 39,
      "outputs": [
        {
          "output_type": "stream",
          "text": [
            "WARNING:tensorflow:From /usr/local/lib/python3.6/dist-packages/tensorflow_core/python/ops/math_grad.py:1424: where (from tensorflow.python.ops.array_ops) is deprecated and will be removed in a future version.\n",
            "Instructions for updating:\n",
            "Use tf.where in 2.0, which has the same broadcast rule as np.where\n",
            "WARNING:tensorflow:From /usr/local/lib/python3.6/dist-packages/keras/backend/tensorflow_backend.py:1033: The name tf.assign_add is deprecated. Please use tf.compat.v1.assign_add instead.\n",
            "\n",
            "WARNING:tensorflow:From /usr/local/lib/python3.6/dist-packages/keras/backend/tensorflow_backend.py:1020: The name tf.assign is deprecated. Please use tf.compat.v1.assign instead.\n",
            "\n",
            "Epoch 1/20\n",
            "46900/46900 [==============================] - 7s 145us/step - loss: 0.6535 - acc: 0.8256\n",
            "Epoch 2/20\n",
            "46900/46900 [==============================] - 6s 131us/step - loss: 0.2415 - acc: 0.9282\n",
            "Epoch 3/20\n",
            "46900/46900 [==============================] - 6s 137us/step - loss: 0.1812 - acc: 0.9472\n",
            "Epoch 4/20\n",
            "46900/46900 [==============================] - 6s 132us/step - loss: 0.1484 - acc: 0.9554\n",
            "Epoch 5/20\n",
            "46900/46900 [==============================] - 6s 134us/step - loss: 0.1232 - acc: 0.9636\n",
            "Epoch 6/20\n",
            "46900/46900 [==============================] - 6s 128us/step - loss: 0.1068 - acc: 0.9681\n",
            "Epoch 7/20\n",
            "46900/46900 [==============================] - 6s 128us/step - loss: 0.0943 - acc: 0.9721\n",
            "Epoch 8/20\n",
            "46900/46900 [==============================] - 6s 130us/step - loss: 0.0839 - acc: 0.9744\n",
            "Epoch 9/20\n",
            "46900/46900 [==============================] - 6s 131us/step - loss: 0.0749 - acc: 0.9772\n",
            "Epoch 10/20\n",
            "46900/46900 [==============================] - 7s 142us/step - loss: 0.0675 - acc: 0.9794\n",
            "Epoch 11/20\n",
            "46900/46900 [==============================] - 6s 138us/step - loss: 0.0614 - acc: 0.9813\n",
            "Epoch 12/20\n",
            "46900/46900 [==============================] - 6s 131us/step - loss: 0.0567 - acc: 0.9824\n",
            "Epoch 13/20\n",
            "46900/46900 [==============================] - 6s 131us/step - loss: 0.0522 - acc: 0.9839\n",
            "Epoch 14/20\n",
            "46900/46900 [==============================] - 6s 135us/step - loss: 0.0473 - acc: 0.9858\n",
            "Epoch 15/20\n",
            "46900/46900 [==============================] - 6s 137us/step - loss: 0.0437 - acc: 0.9867\n",
            "Epoch 16/20\n",
            "46900/46900 [==============================] - 6s 138us/step - loss: 0.0406 - acc: 0.9876\n",
            "Epoch 17/20\n",
            "46900/46900 [==============================] - 6s 135us/step - loss: 0.0377 - acc: 0.9886\n",
            "Epoch 18/20\n",
            "46900/46900 [==============================] - 6s 131us/step - loss: 0.0345 - acc: 0.9900\n",
            "Epoch 19/20\n",
            "46900/46900 [==============================] - 6s 128us/step - loss: 0.0310 - acc: 0.9911\n",
            "Epoch 20/20\n",
            "46900/46900 [==============================] - 6s 130us/step - loss: 0.0290 - acc: 0.9912\n",
            "23100/23100 [==============================] - 1s 46us/step\n",
            "0.9838095238508084\n"
          ],
          "name": "stdout"
        }
      ]
    },
    {
      "cell_type": "code",
      "metadata": {
        "id": "e_RCueNPz3cD",
        "colab_type": "code",
        "outputId": "63116dbb-00a6-4e03-bf66-128f92f527df",
        "colab": {
          "base_uri": "https://localhost:8080/",
          "height": 51
        }
      },
      "source": [
        "# Evaluate the model\n",
        "(loss, accuracy) = model.evaluate(\n",
        "    test_data, \n",
        "    test_labels,\n",
        "    batch_size = 128, \n",
        "    verbose = 1)\n",
        "\n",
        "# Print the model's accuracy\n",
        "print(accuracy)"
      ],
      "execution_count": 40,
      "outputs": [
        {
          "output_type": "stream",
          "text": [
            "23100/23100 [==============================] - 1s 57us/step\n",
            "0.9838095238508084\n"
          ],
          "name": "stdout"
        }
      ]
    }
  ]
}